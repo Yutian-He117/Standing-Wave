{
 "cells": [
  {
   "cell_type": "code",
   "execution_count": 4,
   "id": "8ed4e944-e5d7-4d9b-b874-08d752f365d3",
   "metadata": {},
   "outputs": [],
   "source": [
    "import cv2\n",
    "import os\n",
    "import re\n",
    "from multiprocessing import Pool\n",
    "import numpy as np\n",
    "St=0.0009\n",
    "def get_number(file_name):\n",
    "    m = re.findall('([0-9]*)\\.', file_name)[0]\n",
    "    return int(m)\n",
    "\n",
    "image_folder = r'/home/yutianhe_umass_edu/basilisk/src/codes/Standing Waves/comparison/png/plot_range=2'\n",
    "video_name = '/home/yutianhe_umass_edu/basilisk/src/codes/Standing Waves/comparison/png/plot_range=2/Waves.mp4'\n",
    "\n",
    "images = [img for img in os.listdir(image_folder) if img.endswith(\".png\")]\n",
    "lst_numbers = [get_number(i) for i in images]\n",
    "lst_number_images = sorted(list(zip(lst_numbers, images)))\n",
    "images_sorted = [i[1] for i in lst_number_images]\n",
    "frame = cv2.imread(os.path.join(image_folder, images[0]))\n",
    "height, width, layers = frame.shape\n",
    "fourcc = cv2.VideoWriter_fourcc(*'mp4v')\n",
    "video = cv2.VideoWriter(video_name,fourcc, 20, (width,height))\n",
    "\n",
    "for image in images_sorted:\n",
    "    video.write(cv2.imread(os.path.join(image_folder, image)))\n",
    "\n",
    "'''cv2.destroyAllWindows()'''\n",
    "video.release()"
   ]
  },
  {
   "cell_type": "code",
   "execution_count": null,
   "id": "9ea4f732-4647-4133-b040-ab1e0ac27476",
   "metadata": {},
   "outputs": [],
   "source": []
  }
 ],
 "metadata": {
  "kernelspec": {
   "display_name": "Python [conda env:.conda-pythoncodes]",
   "language": "python",
   "name": "conda-env-.conda-pythoncodes-py"
  },
  "language_info": {
   "codemirror_mode": {
    "name": "ipython",
    "version": 3
   },
   "file_extension": ".py",
   "mimetype": "text/x-python",
   "name": "python",
   "nbconvert_exporter": "python",
   "pygments_lexer": "ipython3",
   "version": "3.11.6"
  }
 },
 "nbformat": 4,
 "nbformat_minor": 5
}
